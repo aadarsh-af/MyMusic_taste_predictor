{
 "cells": [
  {
   "cell_type": "code",
   "execution_count": 9,
   "id": "7184570a",
   "metadata": {},
   "outputs": [
    {
     "data": {
      "text/plain": [
       "['music_recommender.joblib']"
      ]
     },
     "execution_count": 9,
     "metadata": {},
     "output_type": "execute_result"
    }
   ],
   "source": [
    "import pandas as pd # cleanliness oh...\n",
    "from sklearn.tree import DecisionTreeClassifier # you know this line right?\n",
    "# from sklearn.externals import joblib # this won't work here this line is upset\n",
    "import joblib # dude this class saves the training the model has gone through! Give this class a trophy\n",
    "\n",
    "#some repeated shit ahead\n",
    "m_data = pd.read_csv('music.csv')\n",
    "x = m_data.drop(columns=['genre'])\n",
    "y = m_data['genre']\n",
    "model = DecisionTreeClassifier()\n",
    "model.fit(x,y)\n",
    "\n",
    "joblib.dump(model,'music_recommender.joblib') # yeah first train the model and then save the progress, great"
   ]
  },
  {
   "cell_type": "code",
   "execution_count": 19,
   "id": "217110fc",
   "metadata": {},
   "outputs": [
    {
     "data": {
      "text/plain": [
       "array(['Dance'], dtype=object)"
      ]
     },
     "execution_count": 19,
     "metadata": {},
     "output_type": "execute_result"
    }
   ],
   "source": [
    "joblib.load('music_recommender.joblib') # no need to type the whole training class again... Just load what you saved dude grow up!\n",
    "predictions = model.predict([[22,0]]) # nibbi would like to dance!\n",
    "predictions # let's prove it!"
   ]
  },
  {
   "cell_type": "code",
   "execution_count": 18,
   "id": "704603cb",
   "metadata": {},
   "outputs": [],
   "source": [
    "import pandas as pd\n",
    "from sklearn.tree import DecisionTreeClassifier\n",
    "\n",
    "# okay I'm fed up of the straight forward results, i need to know how my model thinks in the first place to predict things\n",
    "from sklearn import tree # oh so you wanna dig some roots now? FINE\n",
    "\n",
    "m_data = pd.read_csv('music.csv')\n",
    "x = m_data.drop(columns=['genre'])\n",
    "y = m_data['genre']\n",
    "model = DecisionTreeClassifier()\n",
    "model.fit(x,y)\n",
    "# you already knew this code is same right? hahaha \n",
    "\n",
    "# okay this will draw quite a picture how my model thinks before predicting things, it Literally draws!\n",
    "tree.export_graphviz(model, out_file='music_recommender.dot',\n",
    "                    feature_names=['age','gender'],\n",
    "                    class_names=sorted(y.unique()),\n",
    "                    label='all',\n",
    "                    rounded=True,\n",
    "                    filled=True)\n",
    "# the first argument is the model it would take into consideration\n",
    "# out_file is the name you wanna save the picture of a 'dot' extension\n",
    "# feature names are the data in x, remember x?\n",
    "# class names are the data in y, don't you tell me you don't remember y!\n",
    "# labels are the detailing it will add to the diagram\n",
    "# You like the corners rounded right? YOU LIKE THEM ROUNDED, AM I RIGHT? Yeah good people\n",
    "# Ah filled is the coloring\n",
    "\n",
    "# okay now my model is intelligent enough to predict your taste in music\n",
    "# Don't mess with me otherwise I'll get to know your taste in music, you understand? you better understand."
   ]
  }
 ],
 "metadata": {
  "kernelspec": {
   "display_name": "Python 3",
   "language": "python",
   "name": "python3"
  },
  "language_info": {
   "codemirror_mode": {
    "name": "ipython",
    "version": 3
   },
   "file_extension": ".py",
   "mimetype": "text/x-python",
   "name": "python",
   "nbconvert_exporter": "python",
   "pygments_lexer": "ipython3",
   "version": "3.8.8"
  }
 },
 "nbformat": 4,
 "nbformat_minor": 5
}
